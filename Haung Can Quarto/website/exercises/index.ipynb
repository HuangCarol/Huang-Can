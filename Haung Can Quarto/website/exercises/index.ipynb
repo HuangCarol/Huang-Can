{
  "cells": [
    {
      "cell_type": "markdown",
      "metadata": {},
      "source": [
        "# Exercises\n",
        "\n",
        "### [Practice 1 Climate change](Practice1.html)\n",
        "\n",
        "### [Practice2 empirical](practice2.html)\n",
        "\n",
        "### [Practice 3 Extract PDF and movie](practice3.html)\n",
        "\n",
        "### [Practice 4 IMDb and Douban](practice4.html)"
      ],
      "id": "11ed3ff9-74fc-4b2b-98d3-4128687b6bc7"
    }
  ],
  "nbformat": 4,
  "nbformat_minor": 5,
  "metadata": {
    "kernelspec": {
      "display_name": "Python 3",
      "language": "python",
      "name": "python3"
    }
  }
}