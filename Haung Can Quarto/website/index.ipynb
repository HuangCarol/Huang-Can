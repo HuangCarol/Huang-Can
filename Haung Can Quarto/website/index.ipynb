{
  "cells": [
    {
      "cell_type": "markdown",
      "metadata": {},
      "source": [
        "# Huang Can\n",
        "\n",
        "# my website!\n",
        "\n",
        "## —–BSU，EM24-A，Huang Can\n",
        "\n",
        "#### —-I’m from SiChuan, I like spicy food"
      ],
      "id": "55222d81-8e5c-4235-bd23-3fe5d5084b1d"
    }
  ],
  "nbformat": 4,
  "nbformat_minor": 5,
  "metadata": {
    "kernelspec": {
      "display_name": "Python 3",
      "language": "python",
      "name": "python3"
    }
  }
}